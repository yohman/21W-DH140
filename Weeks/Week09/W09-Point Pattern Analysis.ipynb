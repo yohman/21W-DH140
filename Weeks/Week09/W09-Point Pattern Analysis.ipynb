{
 "cells": [
  {
   "cell_type": "markdown",
   "metadata": {
    "slideshow": {
     "slide_type": "slide"
    }
   },
   "source": [
    "<div class=\"alert alert-danger\">\n",
    "\n",
    "<h1>Take notice!</h1>\n",
    "<ul>\n",
    "    <li>This class will be recorded</li>\n",
    "</ul>\n",
    "    \n",
    "</div>"
   ]
  },
  {
   "cell_type": "markdown",
   "metadata": {
    "toc": true
   },
   "source": [
    "<h1>Table of Contents<span class=\"tocSkip\"></span></h1>\n",
    "<div class=\"toc\"><ul class=\"toc-item\"><li><span><a href=\"#Take-notice!\" data-toc-modified-id=\"Take-notice!-1\"><span class=\"toc-item-num\">1&nbsp;&nbsp;</span>Take notice!</a></span></li><li><span><a href=\"#Point-Pattern-Analysis\" data-toc-modified-id=\"Point-Pattern-Analysis-2\"><span class=\"toc-item-num\">2&nbsp;&nbsp;</span>Point Pattern Analysis</a></span><ul class=\"toc-item\"><li><span><a href=\"#Libraries\" data-toc-modified-id=\"Libraries-2.1\"><span class=\"toc-item-num\">2.1&nbsp;&nbsp;</span>Libraries</a></span></li><li><span><a href=\"#Crime-Data\" data-toc-modified-id=\"Crime-Data-2.2\"><span class=\"toc-item-num\">2.2&nbsp;&nbsp;</span>Crime Data</a></span><ul class=\"toc-item\"><li><span><a href=\"#Pause!\" data-toc-modified-id=\"Pause!-2.2.1\"><span class=\"toc-item-num\">2.2.1&nbsp;&nbsp;</span>Pause!</a></span></li></ul></li><li><span><a href=\"#Heat-maps\" data-toc-modified-id=\"Heat-maps-2.3\"><span class=\"toc-item-num\">2.3&nbsp;&nbsp;</span>Heat maps</a></span></li><li><span><a href=\"#Interactive-exploration\" data-toc-modified-id=\"Interactive-exploration-2.4\"><span class=\"toc-item-num\">2.4&nbsp;&nbsp;</span>Interactive exploration</a></span></li><li><span><a href=\"#Seaborn-Plots\" data-toc-modified-id=\"Seaborn-Plots-2.5\"><span class=\"toc-item-num\">2.5&nbsp;&nbsp;</span>Seaborn Plots</a></span><ul class=\"toc-item\"><li><span><a href=\"#Visualizing-statistical-relationships\" data-toc-modified-id=\"Visualizing-statistical-relationships-2.5.1\"><span class=\"toc-item-num\">2.5.1&nbsp;&nbsp;</span>Visualizing statistical relationships</a></span></li><li><span><a href=\"#Seaborn-themes\" data-toc-modified-id=\"Seaborn-themes-2.5.2\"><span class=\"toc-item-num\">2.5.2&nbsp;&nbsp;</span>Seaborn themes</a></span></li><li><span><a href=\"#Choosing-colors\" data-toc-modified-id=\"Choosing-colors-2.5.3\"><span class=\"toc-item-num\">2.5.3&nbsp;&nbsp;</span>Choosing colors</a></span></li><li><span><a href=\"#Filter-by-location-(e.g.-Hollywood)\" data-toc-modified-id=\"Filter-by-location-(e.g.-Hollywood)-2.5.4\"><span class=\"toc-item-num\">2.5.4&nbsp;&nbsp;</span>Filter by location (e.g. Hollywood)</a></span></li></ul></li><li><span><a href=\"#Joint-plots\" data-toc-modified-id=\"Joint-plots-2.6\"><span class=\"toc-item-num\">2.6&nbsp;&nbsp;</span>Joint plots</a></span></li><li><span><a href=\"#Add-a-basemap-to-seaborn-jointplots\" data-toc-modified-id=\"Add-a-basemap-to-seaborn-jointplots-2.7\"><span class=\"toc-item-num\">2.7&nbsp;&nbsp;</span>Add a basemap to seaborn jointplots</a></span></li><li><span><a href=\"#Hex-binning\" data-toc-modified-id=\"Hex-binning-2.8\"><span class=\"toc-item-num\">2.8&nbsp;&nbsp;</span>Hex-binning</a></span></li><li><span><a href=\"#Centrography\" data-toc-modified-id=\"Centrography-2.9\"><span class=\"toc-item-num\">2.9&nbsp;&nbsp;</span>Centrography</a></span><ul class=\"toc-item\"><li><span><a href=\"#Central-tendency\" data-toc-modified-id=\"Central-tendency-2.9.1\"><span class=\"toc-item-num\">2.9.1&nbsp;&nbsp;</span>Central tendency</a></span></li><li><span><a href=\"#Mean-center\" data-toc-modified-id=\"Mean-center-2.9.2\"><span class=\"toc-item-num\">2.9.2&nbsp;&nbsp;</span>Mean center</a></span></li><li><span><a href=\"#Median-center\" data-toc-modified-id=\"Median-center-2.9.3\"><span class=\"toc-item-num\">2.9.3&nbsp;&nbsp;</span>Median center</a></span></li><li><span><a href=\"#Interpretations\" data-toc-modified-id=\"Interpretations-2.9.4\"><span class=\"toc-item-num\">2.9.4&nbsp;&nbsp;</span>Interpretations</a></span></li><li><span><a href=\"#Dispersion-and-Orientation\" data-toc-modified-id=\"Dispersion-and-Orientation-2.9.5\"><span class=\"toc-item-num\">2.9.5&nbsp;&nbsp;</span>Dispersion and Orientation</a></span></li></ul></li><li><span><a href=\"#Create-a-function\" data-toc-modified-id=\"Create-a-function-2.10\"><span class=\"toc-item-num\">2.10&nbsp;&nbsp;</span>Create a function</a></span></li></ul></li><li><span><a href=\"#Resources\" data-toc-modified-id=\"Resources-3\"><span class=\"toc-item-num\">3&nbsp;&nbsp;</span>Resources</a></span></li></ul></div>"
   ]
  },
  {
   "cell_type": "markdown",
   "metadata": {
    "slideshow": {
     "slide_type": "slide"
    }
   },
   "source": [
    "\n",
    "# Point Pattern Analysis\n",
    "\n",
    "<img src=\"images/pp.png\">\n",
    "\n",
    "In our previous lab, we looked at spatial autocorrelation as a means to extract statistical significance in our datas spatial clustering tendencies. We did so by summarizing point data by small geographic boundaries, spatially joining arrest data to census block groups. But what if we did not care to summarize data by geographic boundaries, but rather simply look at the the location of points to deduct statistical spatial patterns? In this lab, we look at various methods to conduct point pattern analysis, while also introducing interactive notebook widgets to explore our data."
   ]
  },
  {
   "cell_type": "markdown",
   "metadata": {
    "slideshow": {
     "slide_type": "slide"
    }
   },
   "source": [
    "Point pattern analysis is thus concerned with the visualization, description, statistical characerization, and modeling of point patterns, trying to understand the generating process that gives rise and explains the observed data. Common questions in this domain include:\n",
    "\n",
    "- What does the pattern look like?\n",
    "\n",
    "- What is the nature of the distribution of points?\n",
    "\n",
    "- Is there any structure in the way locations are arranged over space? That is, are events clustered? or are they dispersed?\n",
    "\n",
    "- Why do events occur in those places and not in others?"
   ]
  },
  {
   "cell_type": "markdown",
   "metadata": {
    "slideshow": {
     "slide_type": "slide"
    }
   },
   "source": [
    "## Libraries"
   ]
  },
  {
   "cell_type": "code",
   "execution_count": null,
   "metadata": {},
   "outputs": [],
   "source": [
    "# the usuals\n",
    "import geopandas as gpd\n",
    "import matplotlib.pyplot as plt\n",
    "import pandas as pd\n",
    "import contextily as ctx\n",
    "from sodapy import Socrata\n",
    "\n",
    "# new for data viz\n",
    "import seaborn as sns\n",
    "\n",
    "# to explore point patterns\n",
    "from pointpats import centrography\n",
    "from matplotlib.patches import Ellipse\n",
    "import numpy"
   ]
  },
  {
   "cell_type": "markdown",
   "metadata": {
    "slideshow": {
     "slide_type": "slide"
    }
   },
   "source": [
    "## Crime Data\n",
    "\n",
    "We will use crime data from the LAPD for this lab. \n",
    "- [Crime Data from 2020 to Present](https://data.lacity.org/Public-Safety/Crime-Data-from-2020-to-Present/2nrs-mtv8)\n"
   ]
  },
  {
   "cell_type": "markdown",
   "metadata": {
    "slideshow": {
     "slide_type": "slide"
    }
   },
   "source": [
    "### Pause!\n",
    "\n",
    "<img src=\"http://lapd-assets.lapdonline.org/assets/png/LAPD-Badge-Memorial.png\">\n",
    "\n",
    "Let's take a moment to consider the data we are bringing in. \n",
    "\n",
    "- How is \"crime\" reported by the LAPD? \n",
    "\n",
    "- What is in the data, and what is not in the data? \n",
    "\n",
    "- Is there any data bias here, i.e. does the data an accurate representation of the population or phenomenon of study?"
   ]
  },
  {
   "cell_type": "code",
   "execution_count": null,
   "metadata": {
    "cell_id": "00009-684c0663-6a05-4f66-82c3-63b259473b81",
    "deepnote_cell_type": "code",
    "execution_millis": 4626,
    "execution_start": 1605804430393,
    "output_cleared": false,
    "scrolled": true,
    "slideshow": {
     "slide_type": "slide"
    },
    "source_hash": "a077b4d5"
   },
   "outputs": [],
   "source": [
    "# connect to the data portal\n",
    "client = Socrata(\"data.lacity.org\", None)\n",
    "\n",
    "results = client.get(\"2nrs-mtv8\", \n",
    "                     limit=50000,\n",
    "                     where = \"date_rptd >= '2021-01-01T00:00:00'\",\n",
    "                     order='date_rptd desc')\n",
    "\n",
    "# Convert to pandas DataFrame\n",
    "df = pd.DataFrame.from_records(results)"
   ]
  },
  {
   "cell_type": "code",
   "execution_count": null,
   "metadata": {
    "slideshow": {
     "slide_type": "fragment"
    }
   },
   "outputs": [],
   "source": [
    "df.shape"
   ]
  },
  {
   "cell_type": "code",
   "execution_count": null,
   "metadata": {
    "cell_id": "00012-11bd538c-28c8-4c61-9994-e819c3feb7e8",
    "deepnote_cell_type": "code",
    "execution_millis": 409,
    "execution_start": 1605804442578,
    "output_cleared": false,
    "slideshow": {
     "slide_type": "slide"
    },
    "source_hash": "dcfb7ede"
   },
   "outputs": [],
   "source": [
    "# convert pandas dataframe to geodataframe\n",
    "gdf = gpd.GeoDataFrame(df, \n",
    "                     crs='EPSG:4326',\n",
    "                     geometry=gpd.points_from_xy(df.lon, df.lat))"
   ]
  },
  {
   "cell_type": "code",
   "execution_count": null,
   "metadata": {
    "cell_id": "00014-5b46baf9-e870-4232-a425-28f0d65fb571",
    "deepnote_cell_type": "code",
    "execution_millis": 60,
    "execution_start": 1605804598151,
    "output_cleared": false,
    "slideshow": {
     "slide_type": "fragment"
    },
    "source_hash": "ced73d7"
   },
   "outputs": [],
   "source": [
    "# convert lat/lon to floats\n",
    "gdf.lon = gdf.lon.astype('float')\n",
    "gdf.lat = gdf.lat.astype('float')\n",
    "gdf.vict_age = gdf.vict_age.astype('int')"
   ]
  },
  {
   "cell_type": "code",
   "execution_count": null,
   "metadata": {},
   "outputs": [],
   "source": [
    "# drop the unmapped rows\n",
    "gdf = gdf[gdf.lon!=0]"
   ]
  },
  {
   "cell_type": "code",
   "execution_count": null,
   "metadata": {
    "slideshow": {
     "slide_type": "fragment"
    }
   },
   "outputs": [],
   "source": [
    "# filter columns\n",
    "gdf=gdf[['date_rptd','area_name','vict_age','vict_sex','vict_descent','crm_cd_desc','geometry']]"
   ]
  },
  {
   "cell_type": "code",
   "execution_count": null,
   "metadata": {
    "slideshow": {
     "slide_type": "fragment"
    }
   },
   "outputs": [],
   "source": [
    "# rename columns\n",
    "gdf.columns = ['date','area_name','age','sex','race','crime','geometry']"
   ]
  },
  {
   "cell_type": "code",
   "execution_count": null,
   "metadata": {
    "slideshow": {
     "slide_type": "fragment"
    }
   },
   "outputs": [],
   "source": [
    "# project to web mercator\n",
    "# gdf=gdf.to_crs('EPSG:3857')"
   ]
  },
  {
   "cell_type": "code",
   "execution_count": null,
   "metadata": {
    "slideshow": {
     "slide_type": "slide"
    }
   },
   "outputs": [],
   "source": [
    "# drop rows with null values\n",
    "gdf = gdf.dropna()"
   ]
  },
  {
   "cell_type": "code",
   "execution_count": null,
   "metadata": {
    "slideshow": {
     "slide_type": "fragment"
    }
   },
   "outputs": [],
   "source": [
    "# drop rows where age == 0\n",
    "gdf = gdf[gdf.age!=0]"
   ]
  },
  {
   "cell_type": "code",
   "execution_count": null,
   "metadata": {
    "slideshow": {
     "slide_type": "fragment"
    }
   },
   "outputs": [],
   "source": [
    "gdf.shape"
   ]
  },
  {
   "cell_type": "code",
   "execution_count": null,
   "metadata": {
    "slideshow": {
     "slide_type": "slide"
    }
   },
   "outputs": [],
   "source": [
    "gdf.sample(20)"
   ]
  },
  {
   "cell_type": "markdown",
   "metadata": {
    "slideshow": {
     "slide_type": "slide"
    }
   },
   "source": [
    "## Heat maps\n",
    "This lab will focus on visualing point densities in a variety of ways. Before we begin, let's have a look at the arrest data in its \"raw\" format, by simply creating a point map: a single point for its given location on a grid."
   ]
  },
  {
   "cell_type": "code",
   "execution_count": null,
   "metadata": {
    "slideshow": {
     "slide_type": "slide"
    }
   },
   "outputs": [],
   "source": [
    "gdf.plot(figsize=(12,12),\n",
    "             markersize=0.5)"
   ]
  },
  {
   "cell_type": "markdown",
   "metadata": {
    "slideshow": {
     "slide_type": "slide"
    }
   },
   "source": [
    "The resulting plot tells us a lot about the data we have imported into the notebook. The overall shape, if you are familiar with Los Angeles, gives a sense of the physical space that is defined by its city boundary. Even in the absence of basemaps, satellite imagery, and other layers of information, the divided city of angels comes to life: from the \"valley\" in the northwest, the empty white space that is the Santa Monica Mountains on the west, the blob in center right that defines the contours of downtown Los Angeles, accentuated by the pathway to the port heading south towards Long Beach. And through this cacophony of points, we can begin to detect point patterns that delineate streets and certain neighborhoods appear to be more concentrated than others. \n",
    "\n",
    "While the visual interpretation can be rich and informative, let's begin a statistical exploration of the point patterns."
   ]
  },
  {
   "cell_type": "markdown",
   "metadata": {
    "slideshow": {
     "slide_type": "slide"
    }
   },
   "source": [
    "## Interactive exploration\n",
    "\n",
    "Jupyter notebooks is a unique coding platform that allows you to mix documentation (markdown cells) with interactive code cells. There is, however, another level of interactivity that can be developed. By \"interactive\" we mean to say that it utilizes the interactive features of the web, allowing users to use dropdowns and sliders to manipulate the output.\n",
    "\n",
    "The presence of these interactive widgets allows us to explore the data without the need to consistently modify code cells to change parameters. It is, in a sense, a snazzy and useful utility to your notebook.\n",
    "\n",
    "To add interactivity to your cell output, the following steps are required:\n",
    "\n",
    "- import the interact library\n",
    "- create a function with at least one argument\n",
    "- if the argument is numeric, a slider will be generated\n",
    "- if the argument is categorical, provide a list of values to generate a dropdown menu"
   ]
  },
  {
   "cell_type": "markdown",
   "metadata": {
    "slideshow": {
     "slide_type": "slide"
    }
   },
   "source": [
    "For this section, we will build an interactive map of Los Angeles showing the location of arrests by arrest type. A dropdown menu will allow you to change the crime type and update the map."
   ]
  },
  {
   "cell_type": "code",
   "execution_count": null,
   "metadata": {
    "slideshow": {
     "slide_type": "fragment"
    }
   },
   "outputs": [],
   "source": [
    "# import that interact library\n",
    "import ipywidgets as widgets\n",
    "from ipywidgets import interact, interact_manual"
   ]
  },
  {
   "cell_type": "markdown",
   "metadata": {
    "slideshow": {
     "slide_type": "slide"
    }
   },
   "source": [
    "In order to create a dropdown of crime types, we need to create a list of them."
   ]
  },
  {
   "cell_type": "code",
   "execution_count": null,
   "metadata": {
    "slideshow": {
     "slide_type": "fragment"
    }
   },
   "outputs": [],
   "source": [
    "gdf.crime.value_counts()"
   ]
  },
  {
   "cell_type": "markdown",
   "metadata": {
    "slideshow": {
     "slide_type": "slide"
    }
   },
   "source": [
    "That's quite a lot of categories. Let's narrow it down to the top 50, and put it in a list variable `top_50_crimes`."
   ]
  },
  {
   "cell_type": "code",
   "execution_count": null,
   "metadata": {
    "scrolled": false,
    "slideshow": {
     "slide_type": "fragment"
    }
   },
   "outputs": [],
   "source": [
    "# get the top 50 crime types into a list\n",
    "top_50_crimes = gdf.crime.value_counts().head(50).index.tolist()\n",
    "top_50_crimes"
   ]
  },
  {
   "cell_type": "markdown",
   "metadata": {
    "slideshow": {
     "slide_type": "slide"
    }
   },
   "source": [
    "If we were then to produce a slice of the data for a single crime type:"
   ]
  },
  {
   "cell_type": "code",
   "execution_count": null,
   "metadata": {
    "slideshow": {
     "slide_type": "fragment"
    }
   },
   "outputs": [],
   "source": [
    "gdf[gdf.crime == 'BATTERY - SIMPLE ASSAULT'].head()"
   ]
  },
  {
   "cell_type": "markdown",
   "metadata": {
    "slideshow": {
     "slide_type": "slide"
    }
   },
   "source": [
    "Let's put this all together in a single cell, adding a map output:"
   ]
  },
  {
   "cell_type": "code",
   "execution_count": null,
   "metadata": {
    "slideshow": {
     "slide_type": "fragment"
    }
   },
   "outputs": [],
   "source": [
    "# table\n",
    "display(gdf[gdf.crime == 'BATTERY - SIMPLE ASSAULT'].head()) \n",
    "\n",
    "# map\n",
    "ax = gdf[gdf.crime == 'BATTERY - SIMPLE ASSAULT'].plot(figsize=(9,9), markersize=1)\n",
    "\n",
    "# axis\n",
    "ax.axis('off')\n",
    "\n",
    "# basemap\n",
    "ctx.add_basemap(ax,\n",
    "                crs='epsg:4326', # surprise! You can change the crs here!\n",
    "                source=ctx.providers.CartoDB.Positron)"
   ]
  },
  {
   "cell_type": "markdown",
   "metadata": {
    "slideshow": {
     "slide_type": "slide"
    }
   },
   "source": [
    "Now that we have a desired output based on code in a single cell, create a function. Notice how `crime` is a required argument."
   ]
  },
  {
   "cell_type": "code",
   "execution_count": null,
   "metadata": {
    "slideshow": {
     "slide_type": "fragment"
    }
   },
   "outputs": [],
   "source": [
    "# create a function\n",
    "def crime_by(crime='BATTERY - SIMPLE ASSAULT'):\n",
    "    # table\n",
    "    display(gdf[gdf.crime == crime].head()) \n",
    "    \n",
    "    # map\n",
    "    ax = gdf[gdf.crime == crime].plot(figsize=(9,9), markersize=2)\n",
    "    \n",
    "    # axis\n",
    "    ax.axis('off')\n",
    "    \n",
    "    # basemap\n",
    "    ctx.add_basemap(ax,\n",
    "                    crs='epsg:4326', # surprise! You can change the crs here!\n",
    "                    source=ctx.providers.CartoDB.Positron)"
   ]
  },
  {
   "cell_type": "code",
   "execution_count": null,
   "metadata": {
    "slideshow": {
     "slide_type": "slide"
    }
   },
   "outputs": [],
   "source": [
    "# call the function for a different crime type\n",
    "crime_by(crime = 'BURGLARY')"
   ]
  },
  {
   "cell_type": "markdown",
   "metadata": {
    "slideshow": {
     "slide_type": "slide"
    }
   },
   "source": [
    "Next, we use an interactive feature to create a drop down for our function."
   ]
  },
  {
   "cell_type": "code",
   "execution_count": null,
   "metadata": {
    "slideshow": {
     "slide_type": "fragment"
    }
   },
   "outputs": [],
   "source": [
    "# to make this function interactive\n",
    "@interact\n",
    "\n",
    "# function argument will become interactive\n",
    "def arrests_by(crime=top_50_crimes):\n",
    "    # table\n",
    "    display(gdf[gdf.crime == crime].head()) \n",
    "\n",
    "    # map\n",
    "    ax = gdf[gdf.crime == crime].plot(figsize=(9,9), markersize=10)\n",
    "    \n",
    "    # axis\n",
    "    ax.axis('off')\n",
    "\n",
    "    # basemap\n",
    "    ctx.add_basemap(ax,\n",
    "                    crs='epsg:4326', # surprise! You can change the crs here!\n",
    "                    source=ctx.providers.CartoDB.Positron)"
   ]
  },
  {
   "cell_type": "markdown",
   "metadata": {
    "slideshow": {
     "slide_type": "slide"
    }
   },
   "source": [
    "<div class=\"alert alert-info\">\n",
    "Now it's your turn! Create an interactive map with a drop down for a different column (e.g. area_name, race, sex).\n",
    "    \n",
    "Extra challenge: Create an interactive map with multiple dropdowns.\n",
    "</div>"
   ]
  },
  {
   "attachments": {
    "seaborn.png": {
     "image/png": "[encoded data removed]"
    }
   },
   "cell_type": "markdown",
   "metadata": {
    "slideshow": {
     "slide_type": "slide"
    }
   },
   "source": [
    "## Seaborn Plots\n",
    "![seaborn.png](attachment:seaborn.png)\n",
    "We have explored data vizualization through [matplotlib](https://matplotlib.org/) (static images) and [plotly](https://plot.ly/python/) (interactive javascript). We will now look at [seaborn](https://seaborn.pydata.org/), the natural third wheel of the python visualization trifecta. Seaborn is favored by statisticians for its advanced capabilities, and by designers for its more flexible and intuitive graphical features.\n",
    "\n",
    "> Seaborn is a Python data visualization library based on matplotlib. It provides a high-level interface for drawing attractive and informative statistical graphics.\n",
    "\n",
    "-https://seaborn.pydata.org/"
   ]
  },
  {
   "cell_type": "code",
   "execution_count": null,
   "metadata": {
    "slideshow": {
     "slide_type": "slide"
    }
   },
   "outputs": [],
   "source": [
    "# seaborn needs an x and y column so let's extract it from the geometry field\n",
    "gdf['x'] = gdf.geometry.x\n",
    "gdf['y'] = gdf.geometry.y"
   ]
  },
  {
   "cell_type": "code",
   "execution_count": null,
   "metadata": {
    "slideshow": {
     "slide_type": "fragment"
    }
   },
   "outputs": [],
   "source": [
    "gdf.head()"
   ]
  },
  {
   "cell_type": "markdown",
   "metadata": {
    "slideshow": {
     "slide_type": "slide"
    }
   },
   "source": [
    "### Visualizing statistical relationships\n",
    "\n",
    "- https://seaborn.pydata.org/tutorial/relational.html"
   ]
  },
  {
   "cell_type": "code",
   "execution_count": null,
   "metadata": {
    "slideshow": {
     "slide_type": "slide"
    }
   },
   "outputs": [],
   "source": [
    "# scatterplot\n",
    "sns.relplot(data=gdf,\n",
    "            x='x', \n",
    "            y='y',\n",
    "            s=3)"
   ]
  },
  {
   "cell_type": "markdown",
   "metadata": {
    "slideshow": {
     "slide_type": "slide"
    }
   },
   "source": [
    "### Seaborn themes\n",
    "\n",
    "- https://seaborn.pydata.org/tutorial/aesthetics.html\n",
    "\n",
    "You can set different themes by choosing one of the following:\n",
    "- darkgrid\n",
    "- whitegrid\n",
    "- dark\n",
    "- white\n",
    "- ticks"
   ]
  },
  {
   "cell_type": "code",
   "execution_count": null,
   "metadata": {
    "slideshow": {
     "slide_type": "slide"
    }
   },
   "outputs": [],
   "source": [
    "# seaborn comes with themes to make them prettier\n",
    "sns.set_style('darkgrid')\n",
    "\n",
    "# scatterplot \n",
    "sns.relplot(data=gdf,\n",
    "            x='x', \n",
    "            y='y',\n",
    "            s=3)"
   ]
  },
  {
   "cell_type": "code",
   "execution_count": null,
   "metadata": {
    "slideshow": {
     "slide_type": "slide"
    }
   },
   "outputs": [],
   "source": [
    "@interact\n",
    "def sns_styles(style=['darkgrid', 'whitegrid', 'dark', 'white', 'ticks']):\n",
    "    # seaborn comes with themes to make them prettier\n",
    "    sns.set_style(style)\n",
    "\n",
    "    # scatterplot \n",
    "    sns.relplot(data=gdf,\n",
    "                x='x', \n",
    "                y='y',\n",
    "                s=3)"
   ]
  },
  {
   "cell_type": "markdown",
   "metadata": {
    "slideshow": {
     "slide_type": "slide"
    }
   },
   "source": [
    "### Choosing colors\n",
    "Here is a list of valid palette values:"
   ]
  },
  {
   "cell_type": "code",
   "execution_count": null,
   "metadata": {
    "slideshow": {
     "slide_type": "fragment"
    }
   },
   "outputs": [],
   "source": [
    "color_list=['Accent', 'Accent_r', 'Blues', 'Blues_r', 'BrBG', 'BrBG_r', 'BuGn', 'BuGn_r', 'BuPu', 'BuPu_r', 'CMRmap', 'CMRmap_r', 'Dark2', 'Dark2_r', 'GnBu', 'GnBu_r', 'Greens', 'Greens_r', 'Greys', 'Greys_r', 'OrRd', 'OrRd_r', 'Oranges', 'Oranges_r', 'PRGn', 'PRGn_r', 'Paired', 'Paired_r', 'Pastel1', 'Pastel1_r', 'Pastel2', 'Pastel2_r', 'PiYG', 'PiYG_r', 'PuBu', 'PuBuGn', 'PuBuGn_r', 'PuBu_r', 'PuOr', 'PuOr_r', 'PuRd', 'PuRd_r', 'Purples', 'Purples_r', 'RdBu', 'RdBu_r', 'RdGy', 'RdGy_r', 'RdPu', 'RdPu_r', 'RdYlBu', 'RdYlBu_r', 'RdYlGn', 'RdYlGn_r', 'Reds', 'Reds_r', 'Set1', 'Set1_r', 'Set2', 'Set2_r', 'Set3', 'Set3_r', 'Spectral', 'Spectral_r', 'Wistia', 'Wistia_r', 'YlGn', 'YlGnBu', 'YlGnBu_r', 'YlGn_r', 'YlOrBr', 'YlOrBr_r', 'YlOrRd', 'YlOrRd_r', 'afmhot', 'afmhot_r', 'autumn', 'autumn_r', 'binary', 'binary_r', 'bone', 'bone_r', 'brg', 'brg_r', 'bwr', 'bwr_r', 'cividis', 'cividis_r', 'cool', 'cool_r', 'coolwarm', 'coolwarm_r', 'copper', 'copper_r', 'crest', 'crest_r', 'cubehelix', 'cubehelix_r', 'flag', 'flag_r', 'flare', 'flare_r', 'gist_earth', 'gist_earth_r', 'gist_gray', 'gist_gray_r', 'gist_heat', 'gist_heat_r', 'gist_ncar', 'gist_ncar_r', 'gist_rainbow', 'gist_rainbow_r', 'gist_stern', 'gist_stern_r', 'gist_yarg', 'gist_yarg_r', 'gnuplot', 'gnuplot2', 'gnuplot2_r', 'gnuplot_r', 'gray', 'gray_r', 'hot', 'hot_r', 'hsv', 'hsv_r', 'icefire', 'icefire_r', 'inferno', 'inferno_r', 'jet', 'jet_r', 'magma', 'magma_r', 'mako', 'mako_r', 'nipy_spectral', 'nipy_spectral_r', 'ocean', 'ocean_r', 'pink', 'pink_r', 'plasma', 'plasma_r', 'prism', 'prism_r', 'rainbow', 'rainbow_r', 'rocket', 'rocket_r', 'seismic', 'seismic_r', 'spring', 'spring_r', 'summer', 'summer_r', 'tab10', 'tab10_r', 'tab20', 'tab20_r', 'tab20b', 'tab20b_r', 'tab20c', 'tab20c_r', 'terrain', 'terrain_r', 'twilight', 'twilight_r', 'twilight_shifted', 'twilight_shifted_r', 'viridis', 'viridis_r', 'vlag', 'vlag_r', 'winter', 'winter_r']"
   ]
  },
  {
   "cell_type": "code",
   "execution_count": null,
   "metadata": {
    "slideshow": {
     "slide_type": "slide"
    }
   },
   "outputs": [],
   "source": [
    "# scatterplot colored by area\n",
    "sns.relplot(data=gdf,\n",
    "            x='x', \n",
    "            y='y',\n",
    "            hue='area_name',\n",
    "            palette='tab20',\n",
    "            s=5)"
   ]
  },
  {
   "cell_type": "code",
   "execution_count": null,
   "metadata": {
    "slideshow": {
     "slide_type": "slide"
    }
   },
   "outputs": [],
   "source": [
    "@interact\n",
    "def crime_areas(palette=color_list):\n",
    "# scatterplot colored by area\n",
    "    sns.relplot(data=gdf,\n",
    "                x='x', \n",
    "                y='y',\n",
    "                hue='area_name',\n",
    "                palette=palette,\n",
    "                s=5)"
   ]
  },
  {
   "cell_type": "markdown",
   "metadata": {
    "slideshow": {
     "slide_type": "slide"
    }
   },
   "source": [
    "### Filter by location (e.g. Hollywood)"
   ]
  },
  {
   "cell_type": "code",
   "execution_count": null,
   "metadata": {
    "slideshow": {
     "slide_type": "fragment"
    }
   },
   "outputs": [],
   "source": [
    "sns.relplot(data=gdf[gdf['area_name']=='Hollywood'],\n",
    "            x='x', \n",
    "            y='y')"
   ]
  },
  {
   "cell_type": "code",
   "execution_count": null,
   "metadata": {
    "slideshow": {
     "slide_type": "slide"
    }
   },
   "outputs": [],
   "source": [
    "# color by categorical column\n",
    "sns.relplot(data=gdf[gdf['area_name']=='Hollywood'],\n",
    "            x='x', \n",
    "            y='y',\n",
    "            hue='sex')"
   ]
  },
  {
   "cell_type": "code",
   "execution_count": null,
   "metadata": {
    "slideshow": {
     "slide_type": "slide"
    }
   },
   "outputs": [],
   "source": [
    "# style markers\n",
    "sns.relplot(data=gdf[gdf['area_name']=='Hollywood'],\n",
    "            x='x', \n",
    "            y='y',\n",
    "            hue='sex',\n",
    "            style='sex')"
   ]
  },
  {
   "cell_type": "code",
   "execution_count": null,
   "metadata": {
    "slideshow": {
     "slide_type": "slide"
    }
   },
   "outputs": [],
   "source": [
    "# create multiple plots at once with facets\n",
    "sns.relplot(data=gdf[gdf['area_name']=='Hollywood'],\n",
    "            x='x', \n",
    "            y='y',\n",
    "            hue='sex',\n",
    "            style='sex',\n",
    "            col='race',\n",
    "            col_wrap=4)"
   ]
  },
  {
   "cell_type": "markdown",
   "metadata": {
    "slideshow": {
     "slide_type": "slide"
    }
   },
   "source": [
    "## Joint plots\n",
    "\n",
    "- https://seaborn.pydata.org/generated/seaborn.jointplot.html"
   ]
  },
  {
   "cell_type": "code",
   "execution_count": null,
   "metadata": {
    "scrolled": false,
    "slideshow": {
     "slide_type": "slide"
    }
   },
   "outputs": [],
   "source": [
    "# scatterplot with edges\n",
    "g = sns.jointplot(data = gdf,\n",
    "                  x='x', \n",
    "                  y='y',\n",
    "                  s=10)"
   ]
  },
  {
   "cell_type": "markdown",
   "metadata": {
    "slideshow": {
     "slide_type": "slide"
    }
   },
   "source": [
    "## Add a basemap to seaborn jointplots\n",
    "\n",
    "While I was unable to add a basemap to seaborn relplots, it does seem possible to do so for jointplots:"
   ]
  },
  {
   "cell_type": "code",
   "execution_count": null,
   "metadata": {
    "slideshow": {
     "slide_type": "slide"
    }
   },
   "outputs": [],
   "source": [
    "# add a basemap to jointplots\n",
    "# scatterplot with edges\n",
    "sns.set_style('white')\n",
    "g = sns.jointplot(data = gdf,\n",
    "                  x='x', \n",
    "                  y='y',\n",
    "                  s=10,\n",
    "                  height=8 # make the map bigger\n",
    "                 )\n",
    "\n",
    "# Clean axes\n",
    "g.ax_joint.set_axis_off()\n",
    "\n",
    "# add basemap\n",
    "ctx.add_basemap(g.ax_joint,\n",
    "                crs='epsg:4326')"
   ]
  },
  {
   "cell_type": "markdown",
   "metadata": {
    "slideshow": {
     "slide_type": "slide"
    }
   },
   "source": [
    "## Hex-binning\n",
    "\n",
    "Plotting points on top of one another makes it difficult to determine the level of density in the high cluster areas. Hex-binning is a two-dimensional spatial histogram, providing an algorithm that counts the number of instances given a spatial grid."
   ]
  },
  {
   "cell_type": "code",
   "execution_count": null,
   "metadata": {
    "slideshow": {
     "slide_type": "slide"
    }
   },
   "outputs": [],
   "source": [
    "# Set up figure and axis\n",
    "f, ax = plt.subplots(figsize=(12, 9))\n",
    "\n",
    "# Generate and add hexbin with 50 hexagons in each \n",
    "# dimension, half transparency, ommitting grids with no crime,\n",
    "# and the reverse viridis colormap\n",
    "hb = ax.hexbin(\n",
    "    x = gdf['x'], \n",
    "    y = gdf['y'],\n",
    "    gridsize=50, \n",
    "    linewidths=1,\n",
    "    alpha=0.5, \n",
    "    mincnt=1, # don't show zero\n",
    "    cmap='viridis_r'\n",
    ")\n",
    "\n",
    "# Add basemap\n",
    "ctx.add_basemap(\n",
    "    ax, \n",
    "    crs='epsg:4326',\n",
    "    source=ctx.providers.CartoDB.Positron\n",
    ")\n",
    "\n",
    "# Add colorbar\n",
    "plt.colorbar(hb)\n",
    "\n",
    "# Remove axes\n",
    "ax.axis('off')"
   ]
  },
  {
   "cell_type": "code",
   "execution_count": null,
   "metadata": {
    "slideshow": {
     "slide_type": "slide"
    }
   },
   "outputs": [],
   "source": [
    "# create a subset of the data\n",
    "gdf_HBW = gdf[gdf.race.isin(['H','B','W'])]"
   ]
  },
  {
   "cell_type": "code",
   "execution_count": null,
   "metadata": {
    "scrolled": false,
    "slideshow": {
     "slide_type": "slide"
    }
   },
   "outputs": [],
   "source": [
    "# color code by race\n",
    "g = sns.jointplot(data = gdf_HBW,\n",
    "                  x='x', \n",
    "                  y='y',\n",
    "                  hue='race',\n",
    "                  s=10,\n",
    "                  height=8 # make the map bigger\n",
    "                 )\n",
    "\n",
    "# Clean axes\n",
    "g.ax_joint.set_axis_off()\n",
    "\n",
    "# add basemap\n",
    "ctx.add_basemap(g.ax_joint,\n",
    "                crs='epsg:4326')\n",
    "\n"
   ]
  },
  {
   "cell_type": "markdown",
   "metadata": {
    "slideshow": {
     "slide_type": "slide"
    }
   },
   "source": [
    "## Centrography\n",
    "\n",
    "Centrography refers to a set of descriptive statistics that provide summary descriptions of point patterns. Here, we look at two features: **central tendency** using mean center and median center and **dispersion and orientation** using a standard deviational ellipse."
   ]
  },
  {
   "attachments": {},
   "cell_type": "markdown",
   "metadata": {
    "slideshow": {
     "slide_type": "slide"
    }
   },
   "source": [
    "### Central tendency\n",
    "\n",
    "<img src=\"https://static.cambridge.org/binary/version/id/urn:cambridge.org:id:binary:20200421144010724-0711:9781108614528:49898fig3_1.png\" width=800>\n",
    "\n",
    "Calculating the mean and median centers of point data allow us to visualize the global \"center\" of the point dataset. While this in itself may not be that informative, creating slices of your data can reveal meaningful insights on the central tendencies of different aspects of the data. For example, the statistical central locations may differ by crime type, allowing one to question why this may be the case."
   ]
  },
  {
   "cell_type": "markdown",
   "metadata": {
    "slideshow": {
     "slide_type": "slide"
    }
   },
   "source": [
    "### Mean center\n",
    "\n",
    "- Mean center is the geographic center for a set of spatial features. It is a measure of central tendency and is calculated as the average of the xi and yi values of the centroids of the spatial features"
   ]
  },
  {
   "cell_type": "markdown",
   "metadata": {
    "slideshow": {
     "slide_type": "fragment"
    }
   },
   "source": [
    "<img src=\"https://static.cambridge.org/binary/version/id/urn:cambridge.org:id:binary:20200421144010724-0711:9781108614528:49898fig3_2.png?pub-status=live\" width=800>"
   ]
  },
  {
   "cell_type": "markdown",
   "metadata": {
    "slideshow": {
     "slide_type": "slide"
    }
   },
   "source": [
    "### Median center\n",
    "\n",
    "- Median center is a point that minimizes the travel cost (e.g., distance) from the point itself to all other points (centroids in the case of polygons) in the dataset"
   ]
  },
  {
   "cell_type": "markdown",
   "metadata": {
    "slideshow": {
     "slide_type": "fragment"
    }
   },
   "source": [
    "<img src=\"https://static.cambridge.org/binary/version/id/urn:cambridge.org:id:binary:20200421144010724-0711:9781108614528:49898fig3_3.png?pub-status=live\" width=800>"
   ]
  },
  {
   "cell_type": "markdown",
   "metadata": {
    "slideshow": {
     "slide_type": "slide"
    }
   },
   "source": [
    "### Interpretations\n",
    "\n",
    "- What are uses for mean center?\n",
    "- What are uses for the median center?"
   ]
  },
  {
   "cell_type": "code",
   "execution_count": null,
   "metadata": {
    "slideshow": {
     "slide_type": "slide"
    }
   },
   "outputs": [],
   "source": [
    "# compute the mean and median centers\n",
    "mean_center = centrography.mean_center(gdf[['x','y']])\n",
    "med_center = centrography.euclidean_median(gdf[['x','y']])"
   ]
  },
  {
   "cell_type": "code",
   "execution_count": null,
   "metadata": {
    "slideshow": {
     "slide_type": "slide"
    }
   },
   "outputs": [],
   "source": [
    "# Generate scatter plot\n",
    "g = sns.jointplot(\n",
    "    x='x', y='y', data=gdf, s=0.75, height=9\n",
    ")\n",
    "\n",
    "# Add mean point and marginal lines\n",
    "g.ax_joint.scatter(\n",
    "    *mean_center, color='red', marker='x', s=50, label='Mean Center'\n",
    ")\n",
    "g.ax_marg_x.axvline(mean_center[0], color='red')\n",
    "g.ax_marg_y.axhline(mean_center[1], color='red')\n",
    "\n",
    "# Add median point and marginal lines\n",
    "g.ax_joint.scatter(\n",
    "    *med_center, color='limegreen', marker='o', s=50, label='Median Center'\n",
    ")\n",
    "g.ax_marg_x.axvline(med_center[0], color='limegreen')\n",
    "g.ax_marg_y.axhline(med_center[1], color='limegreen')\n",
    "\n",
    "# Legend\n",
    "g.ax_joint.legend()\n",
    "\n",
    "# Add basemap\n",
    "ctx.add_basemap(\n",
    "    g.ax_joint, \n",
    "    crs='epsg:4326',\n",
    "    source=ctx.providers.CartoDB.Positron\n",
    ")\n",
    "\n",
    "# Clean axes\n",
    "g.ax_joint.set_axis_off()\n",
    "\n",
    "# Display\n",
    "plt.show()\n"
   ]
  },
  {
   "cell_type": "markdown",
   "metadata": {
    "slideshow": {
     "slide_type": "slide"
    }
   },
   "source": [
    "### Dispersion and Orientation\n",
    "\n",
    "<img src=\"https://static.cambridge.org/binary/version/id/urn:cambridge.org:id:binary:20200421144010724-0711:9781108614528:49898fig3_8.png?pub-status=live\" width=800>\n",
    "\n",
    "In addition to the center mean and median, the directional distribution of the points can reveal additional insights to how the data is dispersed over space. This can be visualized using a standard deviational ellipse, where the standard deviations are calculated for the x and y coordinates from the mean center. The ellipse is rotated based on the orientation of the data."
   ]
  },
  {
   "cell_type": "code",
   "execution_count": null,
   "metadata": {
    "slideshow": {
     "slide_type": "slide"
    }
   },
   "outputs": [],
   "source": [
    "major, minor, rotation = centrography.ellipse(gdf[['x','y']])"
   ]
  },
  {
   "cell_type": "code",
   "execution_count": null,
   "metadata": {
    "slideshow": {
     "slide_type": "slide"
    }
   },
   "outputs": [],
   "source": [
    "# set the style without grid lines\n",
    "sns.set_style('dark')\n",
    "\n",
    "# Set up figure and axis\n",
    "f, ax = plt.subplots(1, figsize=(9, 9))\n",
    "\n",
    "# Plot points\n",
    "ax.scatter(gdf['x'], gdf['y'], s=0.75)\n",
    "ax.scatter(*mean_center, color='red', marker='x', label='Mean Center')\n",
    "ax.scatter(*med_center, color='limegreen', marker='o', label='Median Center')\n",
    "\n",
    "# Construct the standard ellipse using matplotlib\n",
    "ellipse = Ellipse(xy=mean_center, # center the ellipse on our mean center\n",
    "                  width=major*2, # centrography.ellipse only gives half the axis\n",
    "                  height=minor*2, \n",
    "                  angle = numpy.rad2deg(rotation), # Angles for this are in degrees, not radians\n",
    "                  facecolor='none', \n",
    "                  edgecolor='red', \n",
    "                  linestyle='--',\n",
    "                  label='Std. Ellipse')\n",
    "\n",
    "ax.add_patch(ellipse)\n",
    "\n",
    "ax.legend()\n",
    "\n",
    "ax.axis('off')\n",
    "\n",
    "# add a basemap\n",
    "ctx.add_basemap(ax,\n",
    "                crs='epsg:4326',\n",
    "                source=ctx.providers.CartoDB.Positron)\n",
    "\n",
    "# Display\n",
    "plt.show()"
   ]
  },
  {
   "cell_type": "code",
   "execution_count": null,
   "metadata": {},
   "outputs": [],
   "source": [
    "gdf.head()"
   ]
  },
  {
   "cell_type": "markdown",
   "metadata": {
    "slideshow": {
     "slide_type": "slide"
    }
   },
   "source": [
    "## Create a function\n",
    "\n",
    "Now let's put it all together. The following function does:\n",
    "\n",
    "- has arguments for area and crime\n",
    "- maps crime location points\n",
    "- maps center mean and median\n",
    "- displays standard deviational ellipsoid"
   ]
  },
  {
   "cell_type": "code",
   "execution_count": null,
   "metadata": {
    "scrolled": false,
    "slideshow": {
     "slide_type": "slide"
    }
   },
   "outputs": [],
   "source": [
    "def crime_ellipse(area, crime):\n",
    "    \n",
    "    # filter the data by race\n",
    "    crime_filtered = gdf[(gdf.crime == crime) & (gdf.area_name == area)]\n",
    "\n",
    "    # mean center and median\n",
    "    mean_center = centrography.mean_center(crime_filtered[['x','y']])\n",
    "    med_center = centrography.euclidean_median(crime_filtered[['x','y']])\n",
    "\n",
    "    # standard ellipse\n",
    "    major, minor, rotation = centrography.ellipse(crime_filtered[['x','y']])\n",
    "\n",
    "    # Set up figure and axis\n",
    "    f, ax = plt.subplots(1, figsize=(9, 9))\n",
    "\n",
    "    # plot crime points\n",
    "    ax.scatter(crime_filtered['x'], crime_filtered['y'], s=3)\n",
    "\n",
    "    # add the mean and median center points\n",
    "    ax.scatter(*mean_center, color='red', marker='x', label='Mean Center')\n",
    "    ax.scatter(*med_center, color='limegreen', marker='o', label='Median Center')\n",
    "\n",
    "    # Construct the standard ellipse using matplotlib\n",
    "    ellipse = Ellipse(xy=mean_center, # center the ellipse on our mean center\n",
    "                      width=major*2, # centrography.ellipse db_filtered\n",
    "                      height=minor*2, \n",
    "                      angle = numpy.rad2deg(rotation), # Angles for this are in degrees, not radians\n",
    "                      facecolor='none', \n",
    "                      edgecolor='red', linestyle='--',\n",
    "                      label='Std. Ellipse')\n",
    "\n",
    "    ax.add_patch(ellipse)\n",
    "\n",
    "    # add the legend\n",
    "    ax.legend()\n",
    "\n",
    "    # no axix\n",
    "    ax.axis('Off')\n",
    "\n",
    "    # add a dynamic title\n",
    "    ax.set_title(area + ': ' + str(len(crime_filtered)) + ' incidents of \"' + crime + '\" in 2021')\n",
    "\n",
    "    # add a basemap\n",
    "    ctx.add_basemap(ax,\n",
    "                    crs='epsg:4326',\n",
    "                    source=ctx.providers.CartoDB.Positron)\n",
    "    # Display\n",
    "    plt.show()"
   ]
  },
  {
   "cell_type": "code",
   "execution_count": null,
   "metadata": {
    "slideshow": {
     "slide_type": "slide"
    }
   },
   "outputs": [],
   "source": [
    "# call the function for a single area and a single crime type\n",
    "crime_ellipse(area='West LA',crime='ROBBERY')"
   ]
  },
  {
   "cell_type": "code",
   "execution_count": null,
   "metadata": {
    "slideshow": {
     "slide_type": "slide"
    }
   },
   "outputs": [],
   "source": [
    "# get top 10 areas\n",
    "top10areas = gdf['area_name'].value_counts().head(10).index.tolist()\n",
    "top10areas"
   ]
  },
  {
   "cell_type": "code",
   "execution_count": null,
   "metadata": {
    "slideshow": {
     "slide_type": "slide"
    }
   },
   "outputs": [],
   "source": [
    "# get top 10 crimes\n",
    "top10crimes = gdf['crime'].value_counts().head(10).index.tolist()\n",
    "top10crimes"
   ]
  },
  {
   "cell_type": "code",
   "execution_count": null,
   "metadata": {
    "scrolled": false,
    "slideshow": {
     "slide_type": "slide"
    }
   },
   "outputs": [],
   "source": [
    "# a double loop to produce 100 maps!\n",
    "for area in top10areas:\n",
    "    for crime in top10crimes:\n",
    "        crime_ellipse(area = area, crime = crime)"
   ]
  },
  {
   "cell_type": "markdown",
   "metadata": {
    "slideshow": {
     "slide_type": "slide"
    }
   },
   "source": [
    "# Resources\n",
    "\n",
    "- https://geographicdata.science/book/notebooks/08_point_pattern_analysis.html\n",
    "- [Cambridge Core: Spatial Analysis Methods and Practice](https://www.cambridge.org/core/books/spatial-analysis-methods-and-practice/analyzing-geographic-distributions-and-point-patterns/1BD1BF57CA4C6A4F879C63293AE37548/core-reader)"
   ]
  }
 ],
 "metadata": {
  "celltoolbar": "Slideshow",
  "kernelspec": {
   "display_name": "Python 3",
   "language": "python",
   "name": "python3"
  },
  "language_info": {
   "codemirror_mode": {
    "name": "ipython",
    "version": 3
   },
   "file_extension": ".py",
   "mimetype": "text/x-python",
   "name": "python",
   "nbconvert_exporter": "python",
   "pygments_lexer": "ipython3",
   "version": "3.8.5"
  },
  "toc": {
   "base_numbering": 1,
   "nav_menu": {},
   "number_sections": true,
   "sideBar": true,
   "skip_h1_title": false,
   "title_cell": "Table of Contents",
   "title_sidebar": "Contents",
   "toc_cell": true,
   "toc_position": {
    "height": "calc(100% - 180px)",
    "left": "10px",
    "top": "150px",
    "width": "349.091px"
   },
   "toc_section_display": true,
   "toc_window_display": false
  }
 },
 "nbformat": 4,
 "nbformat_minor": 4
}
