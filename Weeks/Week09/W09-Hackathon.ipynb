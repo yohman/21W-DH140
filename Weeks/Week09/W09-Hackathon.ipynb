{
 "cells": [
  {
   "cell_type": "markdown",
   "metadata": {},
   "source": [
    "# Hackathon Part 2\n",
    "\n",
    "Scenario:\n",
    "\n",
    "<img src=\"../Week07/images/justice.png\">\n",
    "\n",
    "You are a group of interns working for \"Justice for All,\" a non-profit organization in Los Angeles. Ellen, the director, has come back from her board meeting, gushing at the euphora your maps created. Kazu, your manager, has decided to take an extensive leave of absence to take care of his daughter (his first!), so once again, it is up to you to fulfill Ellen's demands.\n",
    "\n",
    "Part 1:\n",
    "\n",
    "Create a map that shows areas in LA County that meet the following criteria:\n",
    "\n",
    "- Is in the bottom quartile for median household income\n",
    "- Is in the top quartile of public transit users\n",
    "- Is in the top quartile of Percent Hispanic\n",
    "\n",
    "Part 2:\n",
    "\n",
    "Create a \"majority\" race map. That is, a map that shows for each census tract, which race category has the highest percentage."
   ]
  },
  {
   "cell_type": "code",
   "execution_count": null,
   "metadata": {},
   "outputs": [],
   "source": [
    "# libraries\n",
    "import geopandas as gpd\n",
    "import pandas as pd\n",
    "import matplotlib.pyplot as plt\n",
    "import contextily as ctx"
   ]
  },
  {
   "cell_type": "code",
   "execution_count": null,
   "metadata": {},
   "outputs": [],
   "source": [
    "# bring the data in\n",
    "gdf = gpd.read_file('../Week07/data/acs2015_2019.geojson')"
   ]
  },
  {
   "cell_type": "markdown",
   "metadata": {},
   "source": [
    "## Part 1\n",
    "\n",
    "Here is a list of proposed steps (though not enforced by any means!):\n",
    "\n",
    "- subset the data to only the three columns of interest + FIPS and geometry\n",
    "- rename the long column headers to something short\n",
    "- get the required quartile values\n",
    "  - For example, to get the 25% quartile value:\n",
    "    `gdf['column_name'].describe()['25%']`\n",
    "- create a slice of the data that meets the desired criteria\n",
    "  - income < 25th percentile\n",
    "  - public transit > 75th percentile\n",
    "  - % hispanic > 75th percentile\n",
    "- map the tracts that are left!"
   ]
  },
  {
   "cell_type": "code",
   "execution_count": null,
   "metadata": {},
   "outputs": [],
   "source": []
  },
  {
   "cell_type": "code",
   "execution_count": null,
   "metadata": {},
   "outputs": [],
   "source": []
  },
  {
   "cell_type": "code",
   "execution_count": null,
   "metadata": {},
   "outputs": [],
   "source": []
  },
  {
   "cell_type": "code",
   "execution_count": null,
   "metadata": {},
   "outputs": [],
   "source": []
  },
  {
   "cell_type": "markdown",
   "metadata": {},
   "source": [
    "## Part 2\n",
    "\n",
    "- subset the data to only include the Non Hispanic race categories and the Total Hispanic column\n",
    "- rename the columns to something much shorter\n",
    "- create a new column, using `.idxmax(axis=1)` to identify which race category has the max value\n",
    "  - follow this [stackoverflow post](https://stackoverflow.com/questions/62874419/how-to-return-the-highest-value-from-multiple-columns-to-a-new-column-in-a-panda)\n",
    "- map it!"
   ]
  },
  {
   "cell_type": "code",
   "execution_count": null,
   "metadata": {},
   "outputs": [],
   "source": []
  },
  {
   "cell_type": "code",
   "execution_count": null,
   "metadata": {},
   "outputs": [],
   "source": []
  },
  {
   "cell_type": "code",
   "execution_count": null,
   "metadata": {},
   "outputs": [],
   "source": []
  },
  {
   "cell_type": "code",
   "execution_count": null,
   "metadata": {},
   "outputs": [],
   "source": []
  }
 ],
 "metadata": {
  "kernelspec": {
   "display_name": "Python 3",
   "language": "python",
   "name": "python3"
  },
  "language_info": {
   "codemirror_mode": {
    "name": "ipython",
    "version": 3
   },
   "file_extension": ".py",
   "mimetype": "text/x-python",
   "name": "python",
   "nbconvert_exporter": "python",
   "pygments_lexer": "ipython3",
   "version": "3.8.5"
  },
  "toc": {
   "base_numbering": 1,
   "nav_menu": {},
   "number_sections": true,
   "sideBar": true,
   "skip_h1_title": false,
   "title_cell": "Table of Contents",
   "title_sidebar": "Contents",
   "toc_cell": false,
   "toc_position": {},
   "toc_section_display": true,
   "toc_window_display": false
  }
 },
 "nbformat": 4,
 "nbformat_minor": 4
}
