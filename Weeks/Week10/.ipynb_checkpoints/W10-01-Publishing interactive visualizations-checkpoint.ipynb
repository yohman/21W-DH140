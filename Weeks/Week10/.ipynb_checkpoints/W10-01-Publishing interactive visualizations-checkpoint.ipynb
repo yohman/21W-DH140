{
 "cells": [
  {
   "cell_type": "markdown",
   "metadata": {},
   "source": [
    "<div class=\"alert alert-danger\">\n",
    "\n",
    "<h1>Take notice!</h1>\n",
    "<ul>\n",
    "    <li>This class will be recorded</li>\n",
    "</ul>\n",
    "    \n",
    "</div>"
   ]
  },
  {
   "cell_type": "markdown",
   "metadata": {
    "toc": true
   },
   "source": [
    "<h1>Table of Contents<span class=\"tocSkip\"></span></h1>\n",
    "<div class=\"toc\"><ul class=\"toc-item\"><li><span><a href=\"#Take-notice!\" data-toc-modified-id=\"Take-notice!-1\"><span class=\"toc-item-num\">1&nbsp;&nbsp;</span>Take notice!</a></span></li><li><span><a href=\"#Publishing-your-maps-and-charts-in-github-pages\" data-toc-modified-id=\"Publishing-your-maps-and-charts-in-github-pages-2\"><span class=\"toc-item-num\">2&nbsp;&nbsp;</span>Publishing your maps and charts in github pages</a></span><ul class=\"toc-item\"><li><span><a href=\"#Enable-github-pages\" data-toc-modified-id=\"Enable-github-pages-2.1\"><span class=\"toc-item-num\">2.1&nbsp;&nbsp;</span>Enable github pages</a></span></li><li><span><a href=\"#Get-arrest-data\" data-toc-modified-id=\"Get-arrest-data-2.2\"><span class=\"toc-item-num\">2.2&nbsp;&nbsp;</span>Get arrest data</a></span></li><li><span><a href=\"#Save-interactive-elements-as-html-pages\" data-toc-modified-id=\"Save-interactive-elements-as-html-pages-2.3\"><span class=\"toc-item-num\">2.3&nbsp;&nbsp;</span>Save interactive elements as html pages</a></span><ul class=\"toc-item\"><li><span><a href=\"#Folium\" data-toc-modified-id=\"Folium-2.3.1\"><span class=\"toc-item-num\">2.3.1&nbsp;&nbsp;</span>Folium</a></span></li><li><span><a href=\"#Kepler\" data-toc-modified-id=\"Kepler-2.3.2\"><span class=\"toc-item-num\">2.3.2&nbsp;&nbsp;</span>Kepler</a></span></li><li><span><a href=\"#Plotly\" data-toc-modified-id=\"Plotly-2.3.3\"><span class=\"toc-item-num\">2.3.3&nbsp;&nbsp;</span>Plotly</a></span></li></ul></li><li><span><a href=\"#Add-to-github-pages\" data-toc-modified-id=\"Add-to-github-pages-2.4\"><span class=\"toc-item-num\">2.4&nbsp;&nbsp;</span>Add to github pages</a></span></li><li><span><a href=\"#Publish-to-ESRI-storymaps\" data-toc-modified-id=\"Publish-to-ESRI-storymaps-2.5\"><span class=\"toc-item-num\">2.5&nbsp;&nbsp;</span>Publish to ESRI storymaps</a></span></li></ul></li></ul></div>"
   ]
  },
  {
   "cell_type": "markdown",
   "metadata": {},
   "source": [
    "# Publishing your maps and charts in github pages\n",
    "Github pages enables you to publish content in your repo that are in html format. This includes html files generated from folium maps, kepler maps, and interactive plotly charts.\n",
    "\n",
    "## Enable github pages\n",
    "\n",
    "- follow the steps in [this tutorial](https://guides.github.com/features/pages/) to enable github pages"
   ]
  },
  {
   "cell_type": "markdown",
   "metadata": {},
   "source": [
    "## Get arrest data"
   ]
  },
  {
   "cell_type": "code",
   "execution_count": null,
   "metadata": {},
   "outputs": [],
   "source": [
    "# to import data from LA Data portal\n",
    "from sodapy import Socrata\n",
    "import pandas as pd\n",
    "import geopandas as gpd\n",
    "\n",
    "# connect to the data portal\n",
    "client = Socrata(\"data.lacity.org\", None)\n",
    "\n",
    "results = client.get(\"amvf-fr72\", \n",
    "                     limit=50000,\n",
    "                     where = \"arst_date between '2021-01-01T00:00:00' and '2021-01-15T00:00:00'\",\n",
    "                     order='arst_date desc')\n",
    "\n",
    "# Convert to pandas DataFrame\n",
    "arrests = pd.DataFrame.from_records(results)"
   ]
  },
  {
   "cell_type": "code",
   "execution_count": null,
   "metadata": {},
   "outputs": [],
   "source": [
    "arrests.shape"
   ]
  },
  {
   "cell_type": "code",
   "execution_count": null,
   "metadata": {},
   "outputs": [],
   "source": [
    "# drop the unmapped rows\n",
    "arrests.drop(arrests[arrests.lon==0].index,inplace=True)"
   ]
  },
  {
   "cell_type": "code",
   "execution_count": null,
   "metadata": {},
   "outputs": [],
   "source": [
    "# convert lat/lon to floats\n",
    "arrests.lon = arrests.lon.astype('float')\n",
    "arrests.lat = arrests.lat.astype('float')"
   ]
  },
  {
   "cell_type": "code",
   "execution_count": null,
   "metadata": {},
   "outputs": [],
   "source": [
    "arrests = arrests[['arst_date','grp_description','sex_cd','descent_cd','lat','lon']]"
   ]
  },
  {
   "cell_type": "code",
   "execution_count": null,
   "metadata": {
    "scrolled": true
   },
   "outputs": [],
   "source": [
    "arrests.head()"
   ]
  },
  {
   "cell_type": "markdown",
   "metadata": {},
   "source": [
    "## Save interactive elements as html pages\n",
    "\n",
    "For interactive visualizations, you can save them out as html files from within the Jupyter Notebook environment.\n",
    "\n",
    "### Folium"
   ]
  },
  {
   "cell_type": "code",
   "execution_count": null,
   "metadata": {},
   "outputs": [],
   "source": [
    "# import folium, a leaflet python library\n",
    "import folium\n",
    "from folium.plugins import MarkerCluster"
   ]
  },
  {
   "cell_type": "code",
   "execution_count": null,
   "metadata": {},
   "outputs": [],
   "source": [
    "# create a list of lat/lon pair for UCLA\n",
    "ucla = [34.0721237,-118.4440685]\n",
    "m = folium.Map(location=ucla, zoom_start=10)\n",
    "\n",
    "marker_cluster = MarkerCluster().add_to(m)\n",
    "\n",
    "for index,row in arrests.iterrows():\n",
    "    folium.Marker(\n",
    "        location=[row.lat,row.lon],\n",
    "        popup=row.grp_description,\n",
    "        icon=folium.Icon(color=\"red\", icon=\"ok-sign\"),\n",
    "    ).add_to(marker_cluster)\n",
    "\n",
    "m"
   ]
  },
  {
   "cell_type": "code",
   "execution_count": null,
   "metadata": {},
   "outputs": [],
   "source": [
    "# save as html file\n",
    "m.save('ucla.html')"
   ]
  },
  {
   "cell_type": "markdown",
   "metadata": {},
   "source": [
    "### Kepler\n",
    "\n",
    "We create an interactive kepler map. The config variable below is the result of working within kepler to define the parameters of the map. This is just a time-saver to allow us to create a finished product to export."
   ]
  },
  {
   "cell_type": "code",
   "execution_count": null,
   "metadata": {},
   "outputs": [],
   "source": [
    "config = {\n",
    "  \"version\": \"v1\",\n",
    "  \"config\": {\n",
    "    \"visState\": {\n",
    "      \"filters\": [\n",
    "        {\n",
    "          \"dataId\": [\n",
    "            \"arrests\"\n",
    "          ],\n",
    "          \"id\": \"sreoedtdg\",\n",
    "          \"name\": [\n",
    "            \"arst_date\"\n",
    "          ],\n",
    "          \"type\": \"timeRange\",\n",
    "          \"value\": [\n",
    "            1598918400000,\n",
    "            1601078400000\n",
    "          ],\n",
    "          \"enlarged\": True,\n",
    "          \"plotType\": \"histogram\",\n",
    "          \"yAxis\": None\n",
    "        }\n",
    "      ],\n",
    "      \"layers\": [\n",
    "        {\n",
    "          \"id\": \"y8t676q\",\n",
    "          \"type\": \"grid\",\n",
    "          \"config\": {\n",
    "            \"dataId\": \"arrests\",\n",
    "            \"label\": \"Point\",\n",
    "            \"color\": [\n",
    "              34,\n",
    "              63,\n",
    "              154\n",
    "            ],\n",
    "            \"columns\": {\n",
    "              \"lat\": \"lat\",\n",
    "              \"lng\": \"lon\"\n",
    "            },\n",
    "            \"isVisible\": True,\n",
    "            \"visConfig\": {\n",
    "              \"opacity\": 0.8,\n",
    "              \"worldUnitSize\": 0.5,\n",
    "              \"colorRange\": {\n",
    "                \"name\": \"ColorBrewer RdYlGn-6\",\n",
    "                \"type\": \"diverging\",\n",
    "                \"category\": \"ColorBrewer\",\n",
    "                \"colors\": [\n",
    "                  \"#1a9850\",\n",
    "                  \"#91cf60\",\n",
    "                  \"#d9ef8b\",\n",
    "                  \"#fee08b\",\n",
    "                  \"#fc8d59\",\n",
    "                  \"#d73027\"\n",
    "                ],\n",
    "                \"reversed\": True\n",
    "              },\n",
    "              \"coverage\": 1,\n",
    "              \"sizeRange\": [\n",
    "                0,\n",
    "                500\n",
    "              ],\n",
    "              \"percentile\": [\n",
    "                0,\n",
    "                100\n",
    "              ],\n",
    "              \"elevationPercentile\": [\n",
    "                0,\n",
    "                100\n",
    "              ],\n",
    "              \"elevationScale\": 20.9,\n",
    "              \"colorAggregation\": \"count\",\n",
    "              \"sizeAggregation\": \"count\",\n",
    "              \"enable3d\": True\n",
    "            },\n",
    "            \"hidden\": False,\n",
    "            \"textLabel\": [\n",
    "              {\n",
    "                \"field\": None,\n",
    "                \"color\": [\n",
    "                  255,\n",
    "                  255,\n",
    "                  255\n",
    "                ],\n",
    "                \"size\": 18,\n",
    "                \"offset\": [\n",
    "                  0,\n",
    "                  0\n",
    "                ],\n",
    "                \"anchor\": \"start\",\n",
    "                \"alignment\": \"center\"\n",
    "              }\n",
    "            ]\n",
    "          },\n",
    "          \"visualChannels\": {\n",
    "            \"colorField\": None,\n",
    "            \"colorScale\": \"quantize\",\n",
    "            \"sizeField\": None,\n",
    "            \"sizeScale\": \"linear\"\n",
    "          }\n",
    "        }\n",
    "      ],\n",
    "      \"interactionConfig\": {\n",
    "        \"tooltip\": {\n",
    "          \"fieldsToShow\": {\n",
    "            \"arrests\": [\n",
    "              {\n",
    "                \"name\": \"arst_date\",\n",
    "                \"format\": None\n",
    "              },\n",
    "              {\n",
    "                \"name\": \"grp_description\",\n",
    "                \"format\": None\n",
    "              },\n",
    "              {\n",
    "                \"name\": \"sex_cd\",\n",
    "                \"format\": None\n",
    "              },\n",
    "              {\n",
    "                \"name\": \"descent_cd\",\n",
    "                \"format\": None\n",
    "              }\n",
    "            ]\n",
    "          },\n",
    "          \"compareMode\": False,\n",
    "          \"compareType\": \"absolute\",\n",
    "          \"enabled\": True\n",
    "        },\n",
    "        \"brush\": {\n",
    "          \"size\": 0.5,\n",
    "          \"enabled\": False\n",
    "        },\n",
    "        \"geocoder\": {\n",
    "          \"enabled\": False\n",
    "        },\n",
    "        \"coordinate\": {\n",
    "          \"enabled\": False\n",
    "        }\n",
    "      },\n",
    "      \"layerBlending\": \"normal\",\n",
    "      \"splitMaps\": [],\n",
    "      \"animationConfig\": {\n",
    "        \"currentTime\": None,\n",
    "        \"speed\": 1\n",
    "      }\n",
    "    },\n",
    "    \"mapState\": {\n",
    "      \"bearing\": 24,\n",
    "      \"dragRotate\": True,\n",
    "      \"latitude\": 33.837184166330836,\n",
    "      \"longitude\": -118.46478962372794,\n",
    "      \"pitch\": 50,\n",
    "      \"zoom\": 9,\n",
    "      \"isSplit\": False\n",
    "    },\n",
    "    \"mapStyle\": {\n",
    "      \"styleType\": \"dark\",\n",
    "      \"topLayerGroups\": {},\n",
    "      \"visibleLayerGroups\": {\n",
    "        \"label\": True,\n",
    "        \"road\": True,\n",
    "        \"border\": False,\n",
    "        \"building\": True,\n",
    "        \"water\": True,\n",
    "        \"land\": True,\n",
    "        \"3d building\": False\n",
    "      },\n",
    "      \"threeDBuildingColor\": [\n",
    "        9.665468314072013,\n",
    "        17.18305478057247,\n",
    "        31.1442867897876\n",
    "      ],\n",
    "      \"mapStyles\": {}\n",
    "    }\n",
    "  }\n",
    "}"
   ]
  },
  {
   "cell_type": "code",
   "execution_count": null,
   "metadata": {
    "scrolled": false
   },
   "outputs": [],
   "source": [
    "# kepler map of arrests with config parameters assigned\n",
    "from keplergl import KeplerGl\n",
    "map = KeplerGl(height=600, width=800, data={'arrests':arrests},config=config)\n",
    "map"
   ]
  },
  {
   "cell_type": "code",
   "execution_count": null,
   "metadata": {},
   "outputs": [],
   "source": [
    "map.save_to_html(file_name='arrests_kepler.html',read_only=True)"
   ]
  },
  {
   "cell_type": "markdown",
   "metadata": {},
   "source": [
    "### Plotly\n"
   ]
  },
  {
   "cell_type": "code",
   "execution_count": null,
   "metadata": {},
   "outputs": [],
   "source": [
    "import plotly.express as px"
   ]
  },
  {
   "cell_type": "code",
   "execution_count": null,
   "metadata": {},
   "outputs": [],
   "source": [
    "# ok, group by date and charge, and let's get a count for each\n",
    "arrests_by_type=arrests.groupby(['arst_date','grp_description']).size().reset_index(name='count')"
   ]
  },
  {
   "cell_type": "code",
   "execution_count": null,
   "metadata": {},
   "outputs": [],
   "source": [
    "# make a stacked bar chart\n",
    "fig = px.bar(arrests_by_type,\n",
    "           x='arst_date',\n",
    "           y='count',\n",
    "           color='grp_description', # this creates the \"stack\",\n",
    "           labels={'arst_date':'Arrest Date','count':'Number of arrests','grp_description':'Charge type'},\n",
    "           title = 'September 2020 LAPD Arrests by Charge Type'\n",
    "      )\n",
    "fig.show()"
   ]
  },
  {
   "cell_type": "code",
   "execution_count": null,
   "metadata": {},
   "outputs": [],
   "source": [
    "fig.write_html(\"arrests_stacked_plotly.html\")"
   ]
  },
  {
   "cell_type": "code",
   "execution_count": null,
   "metadata": {
    "scrolled": false
   },
   "outputs": [],
   "source": [
    "# map it\n",
    "fig = px.scatter_mapbox(arrests, \n",
    "                        lat=\"lat\", \n",
    "                        lon=\"lon\", \n",
    "                        color=\"descent_cd\",\n",
    "                        labels={'descent_cd':'Race of person arrested'}\n",
    "                       )\n",
    "fig.update_layout(mapbox_style=\"carto-positron\")\n",
    "fig.show()"
   ]
  },
  {
   "cell_type": "code",
   "execution_count": null,
   "metadata": {},
   "outputs": [],
   "source": [
    "fig.write_html(\"arrests_map_plotly.html\")"
   ]
  },
  {
   "cell_type": "markdown",
   "metadata": {},
   "source": [
    "## Add to github pages\n",
    "\n",
    "1. Make sure you have enabled github pages\n",
    "1. Download the html file to your local computer\n",
    "1. Upload the html file to your github repo\n",
    "  - Make sure to note the folder where you upload to.\n",
    "1. The path to your html file will be:\n",
    "\n",
    "\n",
    "https://***your_github_username***.github.io/***name_of_your_repo***/***folder_path***(if not in root)/***your_html_file.html***\n",
    "\n",
    "For example, to access the files created in this notebook from my repo, the links would be:\n",
    "\n",
    "\n",
    "- https://yohman.github.io/up206a/Weeks/Week10/arrests_kepler.html\n",
    "- https://yohman.github.io/up206a/Weeks/Week10/arrests_stacked_plotly.html\n",
    "- https://yohman.github.io/up206a/Weeks/Week10/arrests_map_plotly.html\n"
   ]
  },
  {
   "cell_type": "markdown",
   "metadata": {},
   "source": [
    "## Publish to ESRI storymaps\n",
    "\n",
    "Example story map with embedded interactive Jupyter Notebook visualizations.\n",
    "\n",
    "- https://arcg.is/1n0vGi"
   ]
  }
 ],
 "metadata": {
  "kernelspec": {
   "display_name": "Python 3",
   "language": "python",
   "name": "python3"
  },
  "language_info": {
   "codemirror_mode": {
    "name": "ipython",
    "version": 3
   },
   "file_extension": ".py",
   "mimetype": "text/x-python",
   "name": "python",
   "nbconvert_exporter": "python",
   "pygments_lexer": "ipython3",
   "version": "3.8.5"
  },
  "toc": {
   "base_numbering": 1,
   "nav_menu": {},
   "number_sections": true,
   "sideBar": true,
   "skip_h1_title": false,
   "title_cell": "Table of Contents",
   "title_sidebar": "Contents",
   "toc_cell": true,
   "toc_position": {},
   "toc_section_display": true,
   "toc_window_display": true
  }
 },
 "nbformat": 4,
 "nbformat_minor": 4
}
